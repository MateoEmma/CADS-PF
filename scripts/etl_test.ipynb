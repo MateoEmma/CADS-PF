{
 "cells": [
  {
   "cell_type": "code",
   "execution_count": null,
   "metadata": {},
   "outputs": [],
   "source": [
    "from pyspark.sql import SparkSession #Importamos lo necesario\n",
    "from pyspark.sql.functions import *"
   ]
  },
  {
   "cell_type": "code",
   "execution_count": null,
   "metadata": {},
   "outputs": [],
   "source": [
    "spark = SparkSession.builder.appName('CADS').getOrCreate() #Abrimos Sesión en Spark"
   ]
  },
  {
   "cell_type": "code",
   "execution_count": null,
   "metadata": {},
   "outputs": [],
   "source": [
    "test = spark.read.json(\"../common/data/test.json\") #Abrimos el archivo Test"
   ]
  },
  {
   "cell_type": "code",
   "execution_count": null,
   "metadata": {},
   "outputs": [],
   "source": [
    "test = test.drop('helpful','summary','unixReviewTime','reviewerName') #Quitamos las columnas que no sirven\n",
    "test = test.selectExpr('asin as productId', 'overall as rating', 'reviewerID as reviewerId') #Renombramos las columnas\n",
    "test = test.fillna(value='',subset='reviewText') #Llenamos los textos nulos\n",
    "test = test.withColumn(\"rating\",test[\"rating\"].cast(\"Integer\")) #Convertimos rating a entero\n",
    "test = test.withColumn(\"reviewTime\",translate(\"reviewTime\",\",\",\"\")) #Corregimos el formato de la fecha\n",
    "test = test.withColumn(\"reviewTime\",translate(\"reviewTime\",\" \",\"-\")) #Reformateamos la fecha\n",
    "test = test.withColumn(\"reviewTime\",to_date(col(\"reviewTime\"),\"MM-d-yyyy\")) #Convertimos la fecha a fecha"
   ]
  },
  {
   "cell_type": "code",
   "execution_count": null,
   "metadata": {},
   "outputs": [],
   "source": [
    "test.write.json('../common/data/test_etl') #Guardamos el DataFrame"
   ]
  },
  {
   "cell_type": "code",
   "execution_count": null,
   "metadata": {},
   "outputs": [],
   "source": [
    "test.printSchema() #df.info()\n",
    "test.show() #df.head(20)"
   ]
  },
  {
   "cell_type": "code",
   "execution_count": null,
   "metadata": {},
   "outputs": [],
   "source": [
    "Dict_Null = {col:test.filter(test[col].isNull()).count() for col in test.columns} #Armamos un diccionario con las cuentas de nulos\n",
    "Dict_Null #Vemos la cuenta de nulos"
   ]
  }
 ],
 "metadata": {
  "kernelspec": {
   "display_name": "Python 3",
   "language": "python",
   "name": "python3"
  },
  "language_info": {
   "codemirror_mode": {
    "name": "ipython",
    "version": 3
   },
   "file_extension": ".py",
   "mimetype": "text/x-python",
   "name": "python",
   "nbconvert_exporter": "python",
   "pygments_lexer": "ipython3",
   "version": "3.7.4"
  },
  "vscode": {
   "interpreter": {
    "hash": "5b8cdd4f9a101fdd4557da0745686d41d9a3acecbeb7c45458d61a0a0b7bf82a"
   }
  }
 },
 "nbformat": 4,
 "nbformat_minor": 4
}
