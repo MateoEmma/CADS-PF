{
 "cells": [
  {
   "cell_type": "code",
   "execution_count": null,
   "metadata": {},
   "outputs": [],
   "source": [
    "from nltk.sentiment.vader import SentimentIntensityAnalyzer  #Importamos lo necesario\n",
    "from pyspark.sql import SparkSession\n",
    "from pyspark.sql import functions as F\n",
    "from pyspark.sql import types"
   ]
  },
  {
   "cell_type": "code",
   "execution_count": null,
   "metadata": {},
   "outputs": [],
   "source": [
    "spark = SparkSession.builder.appName('sent').getOrCreate() #Abrimos el archivo\n",
    "df = spark.read.json('../common/data/reviews_etl')"
   ]
  },
  {
   "cell_type": "code",
   "execution_count": null,
   "metadata": {},
   "outputs": [],
   "source": [
    "#Definimos los diccionarios\n",
    "calidad = ['quality','condition','make','made','plastic','plastics','material','materials','finished','well-finished','solid','sturdy','durable','well-made','broken','weak','breaks','fragile']\n",
    "uso= ['use','using','easy','apply','employ','manipulate','effortless','straightforward','uncomplicated','difficile','hard', 'install', 'simple', 'complicated', 'difficult', 'difficulty', 'quickly', 'understand','learn']\n",
    "precio = ['price','cost','costs','pays','costly','overpriced','economical','low-cost','low-priced' 'expensive', 'cheap', 'cheaper', 'cheapest', 'worth']"
   ]
  },
  {
   "cell_type": "code",
   "execution_count": null,
   "metadata": {},
   "outputs": [],
   "source": [
    "def condition(row):    #Función de Discretizado\n",
    "    if row > 0.6: return 5\n",
    "    elif row > 0.2 : return 4\n",
    "    elif row < -0.6 : return 1\n",
    "    elif row < -0.2 : return 2\n",
    "    else : return 3\n",
    "\n",
    "def limiter(num):       #Función límite de cuenta\n",
    "    if num > 0: return 1\n",
    "    elif num < 0: return -1\n",
    "    else: return 0\n",
    "\n",
    "def uso_proc(row): #Función uso\n",
    "    num = 0\n",
    "    for i in row:\n",
    "        if i.lower() in uso: num += 1\n",
    "    return int(limiter(num))\n",
    "\n",
    "def calidad_proc(row): #Función calidad\n",
    "    num = 0\n",
    "    for i in row:\n",
    "        if i.lower() in calidad: num += 1\n",
    "    return limiter(num)\n",
    "\n",
    "def precio_proc(row): #Función precio\n",
    "    num = 0\n",
    "    for i in row:\n",
    "        if i.lower() in precio: num += 1\n",
    "    return limiter(num)\n",
    "\n",
    "def positivity(val1):\n",
    "    return limiter(val1 -3)\n",
    "\n",
    "def multiplier(val1,val2):\n",
    "    return val1*val2\n",
    "\n",
    "df = df.select(F.col(\"productId\"),F.col(\"rating\"),F.col(\"reviewerId\"),F.col(\"reviewText\"),F.col(\"reviewTime\"),F.split(F.col(\"reviewText\"),\" \").alias(\"tokens\")) #Tokenizamos\n",
    "\n",
    "sid = SentimentIntensityAnalyzer() #Análisis de sentimiento\n",
    "\n",
    "df = df.withColumn('rating', F.col('rating').cast('Integer')) #Casteamos rating como entero\n",
    "\n",
    "col_n = F.udf(lambda row: float(sid.polarity_scores(row)['compound'])) #Análisis de sentimiento\n",
    "df = df.withColumn(\"sentiment_float\", col_n(F.col(\"reviewText\")).cast('Float'))\n",
    "col_n = F.udf(condition)\n",
    "df = df.withColumn(\"sentiment\", col_n(F.col(\"sentiment_float\")).cast('Integer')) #Discretizamos el sentimiento\n",
    "\n",
    "col_n = F.udf(uso_proc)\n",
    "df = df.withColumn(\"facilidadUso\", col_n(F.col(\"tokens\")).cast('Integer')) #Creamos facilidadUso\n",
    "col_n = F.udf(calidad_proc)\n",
    "df = df.withColumn(\"calidad\", col_n(F.col(\"tokens\")).cast('Integer')) #Creamos calidad\n",
    "col_n = F.udf(precio_proc)\n",
    "df = df.withColumn(\"precio\", col_n(F.col(\"tokens\")).cast('Integer')) #Creamos precio\n",
    "\n",
    "col_n = F.udf(positivity) #Creamos un índice de positividad\n",
    "df = df.withColumn(\"posIndex\", col_n(F.col(\"rating\")).cast('Integer'))\n",
    "\n",
    "col_n = F.udf(multiplier)\n",
    "df = df.withColumn(\"calidad\", col_n(F.col(\"calidad\"),F.col('posIndex')).cast('Integer')) #Ajustamos el signo de las variables\n",
    "df = df.withColumn(\"facilidadUso\", col_n(F.col(\"facilidadUso\"),F.col('posIndex')).cast('Integer'))\n",
    "df = df.withColumn(\"precio\", col_n(F.col(\"precio\"),F.col('posIndex')).cast('Integer'))\n",
    "\n",
    "df = df.drop('posIndex','tokens','sentiment_float','reviewText') #Eliminamos las tablas que ya no necesitamos"
   ]
  },
  {
   "cell_type": "code",
   "execution_count": null,
   "metadata": {},
   "outputs": [],
   "source": [
    "df.show()"
   ]
  },
  {
   "cell_type": "code",
   "execution_count": null,
   "metadata": {},
   "outputs": [],
   "source": [
    "df.write.json('../common/data/reviews_processed.json') #Guardamos el json"
   ]
  }
 ],
 "metadata": {
  "kernelspec": {
   "display_name": "Python 3.9.12 ('base')",
   "language": "python",
   "name": "python3"
  },
  "language_info": {
   "codemirror_mode": {
    "name": "ipython",
    "version": 3
   },
   "file_extension": ".py",
   "mimetype": "text/x-python",
   "name": "python",
   "nbconvert_exporter": "python",
   "pygments_lexer": "ipython3",
   "version": "3.9.12"
  },
  "vscode": {
   "interpreter": {
    "hash": "5b8cdd4f9a101fdd4557da0745686d41d9a3acecbeb7c45458d61a0a0b7bf82a"
   }
  }
 },
 "nbformat": 4,
 "nbformat_minor": 4
}
