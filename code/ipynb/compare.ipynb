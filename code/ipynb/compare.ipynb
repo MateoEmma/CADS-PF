{
 "cells": [
  {
   "cell_type": "markdown",
   "metadata": {},
   "source": [
    "El objetivo de este script es comparar las tablas y eliminar los productId que no estén en ambas"
   ]
  },
  {
   "cell_type": "code",
   "execution_count": null,
   "metadata": {},
   "outputs": [],
   "source": [
    "from pyspark.sql import SparkSession #Importamos lo necesario\n",
    "from pyspark.sql.functions import *"
   ]
  },
  {
   "cell_type": "code",
   "execution_count": null,
   "metadata": {},
   "outputs": [],
   "source": [
    "spark = SparkSession.builder.appName('CADS').getOrCreate() #Ingresamos a la sesión de Spark\n",
    "products = spark.read.json(\"../common/data/products_etl\") #Abrimos el archivo Productos\n",
    "reviews = spark.read.json(\"../common/data/reviews_processed\") #Abrimos el archivo Reviews"
   ]
  },
  {
   "cell_type": "code",
   "execution_count": null,
   "metadata": {},
   "outputs": [],
   "source": [
    "products = products.join(reviews,products.productId == reviews.productId,\"leftsemi\") #Quitamos de productos los id de reviews\n",
    "reviews = reviews.join(products,reviews.productId == products.productId,\"leftsemi\") #Quitamos de reviews los id de productos"
   ]
  },
  {
   "cell_type": "code",
   "execution_count": null,
   "metadata": {},
   "outputs": [],
   "source": [
    "reviews.write.json('../common/data/reviews_clean') #Guardamos la data\n",
    "products.write.json('../common/data/products_clean')"
   ]
  }
 ],
 "metadata": {
  "kernelspec": {
   "display_name": "Python 3.9.12 ('base')",
   "language": "python",
   "name": "python3"
  },
  "language_info": {
   "name": "python",
   "version": "3.9.12"
  },
  "orig_nbformat": 4,
  "vscode": {
   "interpreter": {
    "hash": "5b8cdd4f9a101fdd4557da0745686d41d9a3acecbeb7c45458d61a0a0b7bf82a"
   }
  }
 },
 "nbformat": 4,
 "nbformat_minor": 2
}
