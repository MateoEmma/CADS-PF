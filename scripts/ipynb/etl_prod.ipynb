{
 "cells": [
  {
   "cell_type": "code",
   "execution_count": null,
   "metadata": {},
   "outputs": [],
   "source": [
    "from pyspark.sql import SparkSession #Importamos lo necesario\n",
    "from pyspark.sql.functions import *\n",
    "from pyspark.sql.types import DoubleType, IntegerType, StringType, FloatType\n",
    "from pyspark.sql import functions as F\n"
   ]
  },
  {
   "cell_type": "code",
   "execution_count": null,
   "metadata": {},
   "outputs": [],
   "source": [
    "spark = SparkSession.builder.appName('CADS').getOrCreate() #Ingresamos a la sesión de Spark\n",
    "products = spark.read.json(\"../common/data/products.json\") #Abrimos el archivo Productos\n",
    "products.show()"
   ]
  },
  {
   "cell_type": "code",
   "execution_count": null,
   "metadata": {},
   "outputs": [],
   "source": [
    "products = products.drop('imUrl', '_corrupt_record', 'brand', 'description', 'salesRank') #Tumbamos las columnas que no sirven\n",
    "products = products.selectExpr('asin as productId','categories as categories','related as related','title as title','price as price') #Renombramos las columnas\n",
    "products = products.dropna(subset='productId') #Quitamos los productos no iDentificados"
   ]
  },
  {
   "cell_type": "code",
   "execution_count": null,
   "metadata": {},
   "outputs": [],
   "source": [
    "products.printSchema() #df.info()\n",
    "products.show() #df.head(20)"
   ]
  },
  {
   "cell_type": "code",
   "execution_count": null,
   "metadata": {},
   "outputs": [],
   "source": [
    "Dict_Null = {col:products.filter(products[col].isNull()).count() for col in products.columns} #Armamos un diccionario que cuenta los nulos por columna\n",
    "Dict_Null #Printeamos las cuentas de nulos por columna"
   ]
  },
  {
   "cell_type": "code",
   "execution_count": null,
   "metadata": {},
   "outputs": [],
   "source": [
    "#Cambiamos el tipo de dato de las columnas que nesecitamos.\n",
    "products = products.withColumn('categories', F.col('categories').cast(StringType()))\n",
    "products = products.withColumn('related', F.col('related').cast(StringType()))\n",
    "products = products.withColumn('price', F.col('price').cast(FloatType()))"
   ]
  },
  {
   "cell_type": "code",
   "execution_count": null,
   "metadata": {},
   "outputs": [],
   "source": [
    "#Normalizamos los datos\n",
    "products = products.withColumn(\"categories\",translate(\"categories\",\"[\",\"\"))\n",
    "products = products.withColumn(\"categories\",translate(\"categories\",\"]\",\"\"))\n",
    "products = products.withColumn(\"related\",translate(\"related\",\"[\",\"\"))\n",
    "products = products.withColumn(\"related\",translate(\"related\",\"]\",\"\"))\n"
   ]
  },
  {
   "cell_type": "code",
   "execution_count": null,
   "metadata": {},
   "outputs": [],
   "source": [
    "products.write.json('../common/data/products_etl') #Guardamos el DataFrame"
   ]
  }
 ],
 "metadata": {
  "kernelspec": {
   "display_name": "Python 3.9.12 ('base')",
   "language": "python",
   "name": "python3"
  },
  "language_info": {
   "codemirror_mode": {
    "name": "ipython",
    "version": 3
   },
   "file_extension": ".py",
   "mimetype": "text/x-python",
   "name": "python",
   "nbconvert_exporter": "python",
   "pygments_lexer": "ipython3",
   "version": "3.9.12"
  },
  "vscode": {
   "interpreter": {
    "hash": "5b8cdd4f9a101fdd4557da0745686d41d9a3acecbeb7c45458d61a0a0b7bf82a"
   }
  }
 },
 "nbformat": 4,
 "nbformat_minor": 4
}
