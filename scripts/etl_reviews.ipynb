{
 "cells": [
  {
   "cell_type": "code",
   "execution_count": 98,
   "metadata": {},
   "outputs": [],
   "source": [
    "from pyspark import sql\n",
    "from pyspark.sql.functions import *"
   ]
  },
  {
   "cell_type": "code",
   "execution_count": 99,
   "metadata": {},
   "outputs": [],
   "source": [
    "spark = SparkSession.builder.appName('test').getOrCreate()"
   ]
  },
  {
   "cell_type": "code",
   "execution_count": 100,
   "metadata": {},
   "outputs": [],
   "source": [
    "reviews = spark.read.json(\"../common/data/reviews_raw.json\")"
   ]
  },
  {
   "cell_type": "code",
   "execution_count": 101,
   "metadata": {},
   "outputs": [
    {
     "name": "stderr",
     "output_type": "stream",
     "text": [
      "                                                                                \r"
     ]
    }
   ],
   "source": [
    "reviews = reviews.drop('helpful','summary','unixReviewTime','reviewerName')\n",
    "reviews = reviews.withColumnRenamed(\"asin\",\"productId\")\n",
    "reviews = reviews.withColumnRenamed(\"overall\",\"rating\")\n",
    "reviews = reviews.withColumnRenamed(\"reviewerID\",\"reviewerId\")\n",
    "reviews = reviews.fillna(value='',subset='reviewText')\n",
    "reviews = reviews.withColumn(\"rating\",reviews[\"rating\"].cast(\"Integer\"))\n",
    "reviews = reviews.withColumn(\"reviewTime\",translate(\"reviewTime\",\",\",\"\"))\n",
    "reviews = reviews.withColumn(\"reviewTime\",translate(\"reviewTime\",\" \",\"-\"))\n",
    "reviews = reviews.withColumn(\"reviewTime\",to_date(col(\"reviewTime\"),\"MM-d-yyyy\"))\n",
    "reviews.write.json('reviews_etl')"
   ]
  },
  {
   "cell_type": "code",
   "execution_count": 102,
   "metadata": {},
   "outputs": [
    {
     "name": "stdout",
     "output_type": "stream",
     "text": [
      "root\n",
      " |-- productId: string (nullable = true)\n",
      " |-- rating: integer (nullable = true)\n",
      " |-- reviewText: string (nullable = false)\n",
      " |-- reviewTime: date (nullable = true)\n",
      " |-- reviewerId: string (nullable = true)\n",
      "\n",
      "+----------+------+--------------------+----------+--------------+\n",
      "| productId|rating|          reviewText|reviewTime|    reviewerId|\n",
      "+----------+------+--------------------+----------+--------------+\n",
      "|1384719342|     5|Not much to write...|2014-02-28|A2IBPI20UZIR0U|\n",
      "|1384719342|     5|The product does ...|2013-03-16|A14VAT5EAX3D9S|\n",
      "|1384719342|     5|The primary job o...|2013-08-28|A195EZSQDW3E21|\n",
      "|1384719342|     5|Nice windscreen p...|2014-02-14|A2C00NNG1ZQQG2|\n",
      "|1384719342|     5|This pop filter i...|2014-02-21| A94QU4C90B1AX|\n",
      "|B00004Y2UT|     5|So good that I bo...|2012-12-21|A2A039TZMZHH9Y|\n",
      "|B00004Y2UT|     5|I have used monst...|2014-01-19|A1UPZM995ZAH90|\n",
      "|B00004Y2UT|     3|I now use this ca...|2012-11-16| AJNFQI3YR6XJ5|\n",
      "|B00004Y2UT|     5|Perfect for my Ep...|2008-07-06|A3M1PLEYNDEYO8|\n",
      "|B00004Y2UT|     5|Monster makes the...|2014-01-08| AMNTZU1YQN1TH|\n",
      "|B00004Y2UT|     5|Monster makes a w...|2012-04-19|A2NYK9KWFMJV4Y|\n",
      "|B00005ML71|     4|I got it to have ...|2014-04-22|A35QFQI0M46LWO|\n",
      "|B00005ML71|     3|If you are not us...|2013-11-17|A2NIT6BKW11XJQ|\n",
      "|B00005ML71|     5|I love it, I used...|2013-06-16|A1C0O09LOLVI39|\n",
      "|B00005ML71|     5|I bought this to ...|2012-12-31|A17SLR18TUMULM|\n",
      "|B00005ML71|     2|I bought this to ...|2013-08-17|A2PD27UKAD3Q00|\n",
      "|B000068NSX|     4|This Fender cable...|2013-08-13| AKSFZ4G1AXYFC|\n",
      "|B000068NSX|     5|wanted it just on...|2013-07-09| A67OJZLHBBUQ9|\n",
      "|B000068NSX|     5|I've been using t...|2013-03-18|A2EZWZ8MBEDOLN|\n",
      "|B000068NSX|     5|Fender cords look...|2013-08-07|A1CL807EOUPVP1|\n",
      "+----------+------+--------------------+----------+--------------+\n",
      "only showing top 20 rows\n",
      "\n"
     ]
    }
   ],
   "source": [
    "reviews.printSchema()\n",
    "reviews.show()"
   ]
  }
 ],
 "metadata": {
  "kernelspec": {
   "display_name": "Python 3.9.12 ('base')",
   "language": "python",
   "name": "python3"
  },
  "language_info": {
   "codemirror_mode": {
    "name": "ipython",
    "version": 3
   },
   "file_extension": ".py",
   "mimetype": "text/x-python",
   "name": "python",
   "nbconvert_exporter": "python",
   "pygments_lexer": "ipython3",
   "version": "3.9.12"
  },
  "orig_nbformat": 4,
  "vscode": {
   "interpreter": {
    "hash": "5b8cdd4f9a101fdd4557da0745686d41d9a3acecbeb7c45458d61a0a0b7bf82a"
   }
  }
 },
 "nbformat": 4,
 "nbformat_minor": 2
}
