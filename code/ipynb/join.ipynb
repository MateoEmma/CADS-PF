{
 "cells": [
  {
   "cell_type": "code",
   "execution_count": null,
   "metadata": {},
   "outputs": [],
   "source": [
    "from pyspark.sql import SparkSession #Importamos lo necesario\n",
    "from pyspark.sql.functions import *"
   ]
  },
  {
   "cell_type": "code",
   "execution_count": null,
   "metadata": {},
   "outputs": [],
   "source": [
    "spark = SparkSession.builder.appName('CADS').getOrCreate() #Abrimos los archivos\n",
    "products = spark.read.json(\"../common/data/products_clean\")\n",
    "reviews = spark.read.json(\"../common/data/reviews_clean\")"
   ]
  },
  {
   "cell_type": "code",
   "execution_count": null,
   "metadata": {},
   "outputs": [],
   "source": [
    "joined = reviews.join(products,'productId',\"full\") #Unimos las trablas según productId"
   ]
  },
  {
   "cell_type": "code",
   "execution_count": null,
   "metadata": {},
   "outputs": [],
   "source": [
    "joined.write.json('../common/data/joined') #Guardamos el df"
   ]
  }
 ],
 "metadata": {
  "kernelspec": {
   "display_name": "Python 3.9.12 ('base')",
   "language": "python",
   "name": "python3"
  },
  "language_info": {
   "name": "python",
   "version": "3.9.12"
  },
  "orig_nbformat": 4,
  "vscode": {
   "interpreter": {
    "hash": "5b8cdd4f9a101fdd4557da0745686d41d9a3acecbeb7c45458d61a0a0b7bf82a"
   }
  }
 },
 "nbformat": 4,
 "nbformat_minor": 2
}
