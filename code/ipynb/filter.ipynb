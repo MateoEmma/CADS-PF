{
 "cells": [
  {
   "cell_type": "markdown",
   "metadata": {},
   "source": [
    "# Modelo de recomendación"
   ]
  },
  {
   "cell_type": "code",
   "execution_count": 1,
   "metadata": {},
   "outputs": [
    {
     "name": "stderr",
     "output_type": "stream",
     "text": [
      "/opt/conda/anaconda/lib/python3.7/site-packages/ipykernel_launcher.py:3: FutureWarning: pandas.util.testing is deprecated. Use the functions in the public API at pandas.testing instead.\n",
      "  This is separate from the ipykernel package so we can avoid doing imports until\n"
     ]
    }
   ],
   "source": [
    "import numpy as np\n",
    "import pandas as pd\n",
    "import pandas.util.testing as tm\n",
    "from surprise import Reader\n",
    "from surprise import Dataset\n",
    "from surprise import accuracy\n",
    "from surprise.model_selection import cross_validate\n",
    "from surprise.model_selection import train_test_split\n",
    "from surprise.model_selection import GridSearchCV\n",
    "from surprise import SVD, SVDpp, NMF, SlopeOne, CoClustering, KNNBaseline, KNNWithZScore, KNNWithMeans, KNNBasic, BaselineOnly, NormalPredictor\n",
    "from sklearn.metrics.pairwise import linear_kernel, cosine_similarity\n",
    "import matplotlib.pyplot as plt\n",
    "import seaborn as sns\n",
    "from pyspark.sql import SparkSession\n",
    "from pyspark.sql import functions as F"
   ]
  },
  {
   "cell_type": "code",
   "execution_count": 2,
   "metadata": {},
   "outputs": [],
   "source": [
    "spark = SparkSession.builder.appName('CADS').getOrCreate()"
   ]
  },
  {
   "cell_type": "code",
   "execution_count": 3,
   "metadata": {},
   "outputs": [],
   "source": [
    "dfspark = spark.read.json('../common/data/reviews_clean')"
   ]
  },
  {
   "cell_type": "code",
   "execution_count": 4,
   "metadata": {},
   "outputs": [],
   "source": [
    "data = dfspark.select(['reviewerId', 'productId', 'rating'])"
   ]
  },
  {
   "cell_type": "code",
   "execution_count": 5,
   "metadata": {},
   "outputs": [],
   "source": [
    "#modelo = modelo.sort(col('reviewTime').desc())"
   ]
  },
  {
   "cell_type": "code",
   "execution_count": 6,
   "metadata": {},
   "outputs": [],
   "source": [
    "data = data.withColumnRenamed('reviewerId', 'user').withColumnRenamed('productId','item').withColumnRenamed('rating', 'rating')"
   ]
  },
  {
   "cell_type": "code",
   "execution_count": 7,
   "metadata": {},
   "outputs": [
    {
     "name": "stdout",
     "output_type": "stream",
     "text": [
      "root\n",
      " |-- user: string (nullable = true)\n",
      " |-- item: string (nullable = true)\n",
      " |-- rating: long (nullable = true)\n",
      "\n",
      "+--------------+----------+------+\n",
      "|          user|      item|rating|\n",
      "+--------------+----------+------+\n",
      "|A16EGPYX5X2GWT|0006353282|     5|\n",
      "|A3DJZNG4TJIIJK|0006353282|     4|\n",
      "|A10F2RGD2D36ZI|0006353282|     4|\n",
      "| AP9ZRBLZ5CRAO|0006353282|     5|\n",
      "|A2BIK37ZMXKW91|0006353282|     4|\n",
      "|A2EF9S6J4ZSR1O|0006353282|     4|\n",
      "| AUY7L0SJNUM95|0006353282|     4|\n",
      "| ATM5S2UD11UPI|0006353282|     5|\n",
      "|A14EQQTXMRWS8J|0006353282|     3|\n",
      "| AHK6ASC7RULUB|0006353282|     5|\n",
      "| A74CX68WG4UQN|0006353282|     5|\n",
      "| AT34AL3XSVYEP|0006353282|     5|\n",
      "|A1V8NBMG0PDVK1|0006353282|     5|\n",
      "|A1KZX8NQGEEQJD|0006353282|     5|\n",
      "|   AFVQZQ8PW0L|0006353282|     5|\n",
      "|A27FP0S5QH7GNE|0006353282|     5|\n",
      "|A104ZQFWRTN5R8|0006353282|     5|\n",
      "|A1PZQKPTXUG81N|0006353282|     5|\n",
      "| AVKDFF2BHS17J|0006353282|     5|\n",
      "|A3A6GXILVT9JNW|0006353282|     5|\n",
      "+--------------+----------+------+\n",
      "only showing top 20 rows\n",
      "\n"
     ]
    }
   ],
   "source": [
    "data.printSchema()\n",
    "data.show()"
   ]
  },
  {
   "cell_type": "code",
   "execution_count": 8,
   "metadata": {},
   "outputs": [],
   "source": [
    "data = data.withColumn(\"rating\",data[\"rating\"].cast(\"Float\"))"
   ]
  },
  {
   "cell_type": "code",
   "execution_count": 9,
   "metadata": {},
   "outputs": [],
   "source": [
    "producto = '0006353282'"
   ]
  },
  {
   "cell_type": "code",
   "execution_count": 10,
   "metadata": {},
   "outputs": [],
   "source": [
    "usuarios = data.filter(data.item == producto)"
   ]
  },
  {
   "cell_type": "code",
   "execution_count": 11,
   "metadata": {},
   "outputs": [],
   "source": [
    "modelo = data.join(usuarios, data.user == usuarios.user, 'leftsemi')"
   ]
  },
  {
   "cell_type": "code",
   "execution_count": 12,
   "metadata": {},
   "outputs": [],
   "source": [
    "users = modelo.select('user').distinct()"
   ]
  },
  {
   "cell_type": "code",
   "execution_count": 13,
   "metadata": {},
   "outputs": [],
   "source": [
    "items = modelo.select('item').distinct()"
   ]
  },
  {
   "cell_type": "code",
   "execution_count": 14,
   "metadata": {},
   "outputs": [],
   "source": [
    "users = users.select('user').rdd.flatMap(lambda x: x).collect()"
   ]
  },
  {
   "cell_type": "code",
   "execution_count": 15,
   "metadata": {},
   "outputs": [
    {
     "data": {
      "text/plain": [
       "46"
      ]
     },
     "execution_count": 15,
     "metadata": {},
     "output_type": "execute_result"
    }
   ],
   "source": [
    "len(users)"
   ]
  },
  {
   "cell_type": "code",
   "execution_count": 16,
   "metadata": {},
   "outputs": [],
   "source": [
    "items = items.select('item').rdd.flatMap(lambda x: x).collect()"
   ]
  },
  {
   "cell_type": "code",
   "execution_count": 17,
   "metadata": {},
   "outputs": [
    {
     "data": {
      "text/plain": [
       "21516"
      ]
     },
     "execution_count": 17,
     "metadata": {},
     "output_type": "execute_result"
    }
   ],
   "source": [
    "len(items)"
   ]
  },
  {
   "cell_type": "code",
   "execution_count": 18,
   "metadata": {},
   "outputs": [
    {
     "data": {
      "text/plain": [
       "22198"
      ]
     },
     "execution_count": 18,
     "metadata": {},
     "output_type": "execute_result"
    }
   ],
   "source": [
    "modelo.count()"
   ]
  },
  {
   "cell_type": "code",
   "execution_count": 19,
   "metadata": {},
   "outputs": [],
   "source": [
    "spark.conf.set(\"spark.sql.execution.arrow.pyspark.enabled\", \"true\")"
   ]
  },
  {
   "cell_type": "code",
   "execution_count": 20,
   "metadata": {},
   "outputs": [],
   "source": [
    "pandas_df = modelo.limit(600000).toPandas() "
   ]
  },
  {
   "cell_type": "code",
   "execution_count": 21,
   "metadata": {},
   "outputs": [
    {
     "data": {
      "text/plain": [
       "21516"
      ]
     },
     "execution_count": 21,
     "metadata": {},
     "output_type": "execute_result"
    }
   ],
   "source": [
    "len(pandas_df.item.unique())"
   ]
  },
  {
   "cell_type": "code",
   "execution_count": 22,
   "metadata": {},
   "outputs": [],
   "source": [
    "sim_options = {\"name\": \"cosine\", \"user_based\": False,}\n",
    "\n",
    "algoritmo = KNNWithMeans(sim_options=sim_options)"
   ]
  },
  {
   "cell_type": "code",
   "execution_count": 23,
   "metadata": {},
   "outputs": [],
   "source": [
    "reader = Reader(rating_scale=(1, 5))"
   ]
  },
  {
   "cell_type": "code",
   "execution_count": 24,
   "metadata": {},
   "outputs": [],
   "source": [
    "data_n = Dataset.load_from_df(pandas_df[[\"user\", \"item\", \"rating\"]], reader)"
   ]
  },
  {
   "cell_type": "code",
   "execution_count": 25,
   "metadata": {},
   "outputs": [],
   "source": [
    "trainingSet = data_n.build_full_trainset()"
   ]
  },
  {
   "cell_type": "code",
   "execution_count": null,
   "metadata": {},
   "outputs": [],
   "source": [
    "algoritmo.fit(trainingSet)"
   ]
  },
  {
   "cell_type": "code",
   "execution_count": 31,
   "metadata": {},
   "outputs": [
    {
     "data": {
      "text/plain": [
       "[[5, 'B008M2Q9C6'],\n",
       " [5, 'B008M4C1BC'],\n",
       " [5, 'B008M4J9B2'],\n",
       " [5, 'B008M4KB0K'],\n",
       " [5, 'B008M4RMJ8']]"
      ]
     },
     "execution_count": 31,
     "metadata": {},
     "output_type": "execute_result"
    }
   ],
   "source": [
    "recomend = []\n",
    "usuario = 'A16EGPYX5X2GWT'\n",
    "for item in items:\n",
    "    p1 = algoritmo.predict(usuario, item[:50])\n",
    "    if p1.est > 1:\n",
    "        p2 = [p1.est , p1.iid]\n",
    "        recomend.append(p2)\n",
    "recomend.sort()\n",
    "recomend[-5:]"
   ]
  },
  {
   "cell_type": "code",
   "execution_count": 32,
   "metadata": {},
   "outputs": [],
   "source": [
    "dfspark_p = spark.read.json('../common/data/products_etl')"
   ]
  },
  {
   "cell_type": "code",
   "execution_count": 33,
   "metadata": {},
   "outputs": [
    {
     "name": "stdout",
     "output_type": "stream",
     "text": [
      "+--------------------+------+----------+--------------------+--------------------+\n",
      "|          Categories| price| productId|             related|               title|\n",
      "+--------------------+------+----------+--------------------+--------------------+\n",
      "|Sports & Outdoors...| 29.98|B00IO9H7DM|, B00IO9H84U, B00...|Nike Girls (8-16)...|\n",
      "|Clothing, Shoes &...|265.68|B00IO93358|, B00IHSSRKW, B00...|Coach 27348 Peyto...|\n",
      "|Apps for Android,...|  null|B00IO9EWB2|B00LBH2UMM, B00GY...|                null|\n",
      "|Health & Personal...| 17.99|B00IO9JF2I|, B004DR7YPK, B00...|Nutri Vitae Plus ...|\n",
      "|Clothing, Shoes &...|  11.2|B00IO9H3YA|, B00JHDGW8U, B00...|Hanes Women`s Cla...|\n",
      "|Sports & Outdoors...|  null|B00IO9HGUG|B00ACIFF0A, B00C5...|Hanes Adult X-Tem...|\n",
      "|Automotive, Perfo...|  96.1|B00IO9CKW0|                null|Max KT001831 Fron...|\n",
      "|Books, Humor & En...|  null|B00IO9JVJU|                null|                null|\n",
      "|Cell Phones & Acc...|  20.1|B00IO91L0C|, B0098FKL1Q, B00...|Incipio Stashback...|\n",
      "|Health & Personal...|  null|B00IO9AFUE|      , B000YLYG64,,|Halls Mentho-Lypt...|\n",
      "|Clothing, Shoes &...|  null|B00IO9CAFW|B00DW195YG, B00KT...|Just My Size Woma...|\n",
      "|Clothing, Shoes &...|  9.99|B00IO97VXI|B0006IXC8I, B00BF...|Underworks Snip-A...|\n",
      "|Clothing, Shoes &...|  null|B00IO9JTXI|B00DW195YG, B00KT...|Just My Size Woma...|\n",
      "|Sports & Outdoors...|  6.99|B00IO9SG64|B0042WJ9EK, B0051...|Plastic Ammo Box ...|\n",
      "|Sports & Outdoors...|  8.99|B00IO9I3T4|, B005NHEA92, B00...|Pig Skateboard Ra...|\n",
      "|Clothing, Shoes &...| 25.99|B00IO8FJYM|, B00BNPGUV4, B00...|Breckelle's BRINA...|\n",
      "|Automotive, Inter...|  66.0|B00IO8IY7G|, B00IO8IW6O, B00...|TYGER Beige Retra...|\n",
      "|Clothing, Shoes &...| 12.03|B00IO9JCKI|B00FBD2EFA, B0050...|Hanes Men`s No Sh...|\n",
      "|Clothing, Shoes &...| 18.99|B00IO8XUKC|, B008YGUXLS, B00...|Mens 10mm Gold or...|\n",
      "|Clothing, Shoes &...|  null|B00IO9QOR2|, B00IAFNW52, B00...|LnLClothing Maxi ...|\n",
      "+--------------------+------+----------+--------------------+--------------------+\n",
      "only showing top 20 rows\n",
      "\n"
     ]
    }
   ],
   "source": [
    "dfspark_p.show()"
   ]
  },
  {
   "cell_type": "code",
   "execution_count": 34,
   "metadata": {},
   "outputs": [],
   "source": [
    "def item_id_to_name(id):\n",
    "    name = dfspark_p.filter((dfspark_p.productId)==id).collect()[0][4]    \n",
    "    return name\n",
    "                            \n"
   ]
  },
  {
   "cell_type": "code",
   "execution_count": 35,
   "metadata": {},
   "outputs": [
    {
     "name": "stdout",
     "output_type": "stream",
     "text": [
      "Para el usuario A1SXASF6GYG96I la recomendacion es : None\n",
      "Para el usuario A1SXASF6GYG96I la recomendacion es : None\n",
      "Para el usuario A1SXASF6GYG96I la recomendacion es : None\n",
      "Para el usuario A1SXASF6GYG96I la recomendacion es : None\n",
      "Para el usuario A1SXASF6GYG96I la recomendacion es : Sterling Silver Diamond Fashion Ring (0.1 Cttw, H-I Color, I3 Clarity), Size 8\n"
     ]
    }
   ],
   "source": [
    "con = 0\n",
    "while con <= 4:\n",
    "    calification = recomend[-5:][con][0]\n",
    "    prod_id = recomend[-5:][con][1]\n",
    "    print(f'Para el usuario {usuario} la recomendacion es : {item_id_to_name(prod_id)}')\n",
    "    con += 1"
   ]
  },
  {
   "cell_type": "code",
   "execution_count": 37,
   "metadata": {},
   "outputs": [
    {
     "name": "stdout",
     "output_type": "stream",
     "text": [
      "None\n"
     ]
    }
   ],
   "source": [
    "print(item_id_to_name('B008M2Q9C6'))"
   ]
  },
  {
   "cell_type": "code",
   "execution_count": null,
   "metadata": {},
   "outputs": [],
   "source": []
  }
 ],
 "metadata": {
  "kernelspec": {
   "display_name": "Python 3",
   "language": "python",
   "name": "python3"
  },
  "language_info": {
   "codemirror_mode": {
    "name": "ipython",
    "version": 3
   },
   "file_extension": ".py",
   "mimetype": "text/x-python",
   "name": "python",
   "nbconvert_exporter": "python",
   "pygments_lexer": "ipython3",
   "version": "3.7.4"
  }
 },
 "nbformat": 4,
 "nbformat_minor": 4
}
