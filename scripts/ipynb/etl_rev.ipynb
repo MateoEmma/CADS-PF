{
 "cells": [
  {
   "cell_type": "code",
   "execution_count": null,
   "metadata": {},
   "outputs": [],
   "source": [
    "from pyspark.sql import SparkSession #Importamos lo necesario\n",
    "from pyspark.sql.functions import *"
   ]
  },
  {
   "cell_type": "code",
   "execution_count": null,
   "metadata": {},
   "outputs": [],
   "source": [
    "spark = SparkSession.builder.appName('CADS').getOrCreate() #Abrimos Sesión en Spark"
   ]
  },
  {
   "cell_type": "code",
   "execution_count": null,
   "metadata": {},
   "outputs": [],
   "source": [
    "reviews = spark.read.json(\"../common/data/reviews.json\") #Abrimos el archivo Reviews"
   ]
  },
  {
   "cell_type": "code",
   "execution_count": null,
   "metadata": {},
   "outputs": [],
   "source": [
    "reviews = reviews.drop('helpful','summary','unixReviewTime','reviewerName') #Quitamos las columnas que no sirven\n",
    "reviews = reviews.selectExpr('asin as productId', 'overall as rating', 'reviewerID as reviewerId', 'revieweText as revieweText', 'revieweTime as revieweTime') #Renombramos las columnas\n",
    "reviews = reviews.fillna(value='',subset='reviewText') #Llenamos los textos nulos\n",
    "reviews = reviews.withColumn(\"rating\",reviews[\"rating\"].cast(\"Integer\")) #Convertimos rating a entero\n",
    "reviews = reviews.withColumn(\"reviewTime\",translate(\"reviewTime\",\",\",\"\")) #Corregimos el formato de la fecha\n",
    "reviews = reviews.withColumn(\"reviewText\",translate(\"reviewText\",\",\",\"\")) #Quitamos comas del texto\n",
    "reviews = reviews.withColumn(\"reviewText\",translate(\"reviewText\",\".\",\"\")) #Quitamos los puntos del texto\n",
    "reviews = reviews.withColumn(\"reviewTime\",translate(\"reviewTime\",\" \",\"-\")) #Reformateamos la fecha\n",
    "reviews = reviews.withColumn(\"reviewTime\",to_date(col(\"reviewTime\"),\"MM-d-yyyy\")) #Convertimos la fecha a fecha\n",
    "reviews = reviews.na.drop() #Quitamos los registros con valores nulos"
   ]
  },
  {
   "cell_type": "code",
   "execution_count": null,
   "metadata": {},
   "outputs": [],
   "source": [
    "reviews.write.json('../common/data/reviews_etl') #Guardamos el DataFrame"
   ]
  },
  {
   "cell_type": "code",
   "execution_count": null,
   "metadata": {},
   "outputs": [],
   "source": [
    "dict_null = {col:reviews.filter(reviews[col].isNull()).count() for col in reviews.columns} #Armamos un diccionario con las cuentas de nulos\n",
    "dict_null #Vemos la cuenta de nulos\n",
    "reviews = reviews.na.drop() #Quitamos los registros con valores nulos"
   ]
  },
  {
   "cell_type": "code",
   "execution_count": null,
   "metadata": {},
   "outputs": [],
   "source": [
    "reviews.printSchema() #df.info()\n",
    "reviews.show() #df.head(20)"
   ]
  }
 ],
 "metadata": {
  "kernelspec": {
   "display_name": "Python 3",
   "language": "python",
   "name": "python3"
  },
  "language_info": {
   "codemirror_mode": {
    "name": "ipython",
    "version": 3
   },
   "file_extension": ".py",
   "mimetype": "text/x-python",
   "name": "python",
   "nbconvert_exporter": "python",
   "pygments_lexer": "ipython3",
   "version": "3.9.12"
  },
  "vscode": {
   "interpreter": {
    "hash": "5b8cdd4f9a101fdd4557da0745686d41d9a3acecbeb7c45458d61a0a0b7bf82a"
   }
  }
 },
 "nbformat": 4,
 "nbformat_minor": 4
}
